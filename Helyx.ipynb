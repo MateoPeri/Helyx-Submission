{
  "nbformat": 4,
  "nbformat_minor": 0,
  "metadata": {
    "colab": {
      "name": "Helyx.ipynb",
      "provenance": [],
      "collapsed_sections": [],
      "toc_visible": true,
      "include_colab_link": true
    },
    "kernelspec": {
      "name": "python3",
      "display_name": "Python 3"
    }
  },
  "cells": [
    {
      "cell_type": "markdown",
      "metadata": {
        "id": "view-in-github",
        "colab_type": "text"
      },
      "source": [
        "<a href=\"https://colab.research.google.com/github/MateoPeri/Helyx-Submission/blob/master/Helyx.ipynb\" target=\"_parent\"><img src=\"https://colab.research.google.com/assets/colab-badge.svg\" alt=\"Open In Colab\"/></a>"
      ]
    },
    {
      "cell_type": "code",
      "metadata": {
        "id": "ScRzAGdNPZvm",
        "colab_type": "code",
        "colab": {
          "base_uri": "https://localhost:8080/",
          "height": 33
        },
        "outputId": "a772e234-867a-4f57-8282-66d4b03d1c9c"
      },
      "source": [
        "import numpy as np\n",
        "from scipy import spatial\n",
        "import pandas as pd\n",
        "import glob\n",
        "!pip install utm\n",
        "import utm"
      ],
      "execution_count": 38,
      "outputs": [
        {
          "output_type": "stream",
          "text": [
            "Requirement already satisfied: utm in /usr/local/lib/python3.6/dist-packages (0.5.0)\n"
          ],
          "name": "stdout"
        }
      ]
    },
    {
      "cell_type": "code",
      "metadata": {
        "id": "QVEdQdJQQXOx",
        "colab_type": "code",
        "outputId": "0ea94887-8b3e-433d-e57e-b3b7d1f988ba",
        "colab": {
          "base_uri": "https://localhost:8080/",
          "height": 886
        }
      },
      "source": [
        "!rm -rf '/content/data'\n",
        "!mkdir data\n",
        "PATH = '/content/data/'\n",
        "!wget -P {PATH} https://raw.githubusercontent.com/MateoPeri/Helyx-Submission/master/data.zip\n",
        "!unzip {PATH}data.zip\n",
        "!wget -P {PATH} https://raw.githubusercontent.com/MateoPeri/Helyx-Submission/master/estaciones.csv"
      ],
      "execution_count": 2,
      "outputs": [
        {
          "output_type": "stream",
          "text": [
            "--2020-04-11 23:55:36--  https://raw.githubusercontent.com/MateoPeri/Helyx-Submission/master/data.zip\n",
            "Resolving raw.githubusercontent.com (raw.githubusercontent.com)... 151.101.0.133, 151.101.64.133, 151.101.128.133, ...\n",
            "Connecting to raw.githubusercontent.com (raw.githubusercontent.com)|151.101.0.133|:443... connected.\n",
            "HTTP request sent, awaiting response... 200 OK\n",
            "Length: 1642601 (1.6M) [application/zip]\n",
            "Saving to: ‘/content/data/data.zip’\n",
            "\n",
            "\rdata.zip              0%[                    ]       0  --.-KB/s               \rdata.zip            100%[===================>]   1.57M  --.-KB/s    in 0.1s    \n",
            "\n",
            "2020-04-11 23:55:36 (13.1 MB/s) - ‘/content/data/data.zip’ saved [1642601/1642601]\n",
            "\n",
            "Archive:  /content/data/data.zip\n",
            "  inflating: data/AL31.csv           \n",
            "  inflating: data/AL62.csv           \n",
            "  inflating: data/AL91.csv           \n",
            "  inflating: data/CA12.csv           \n",
            "  inflating: data/CA21.csv           \n",
            "  inflating: data/CA52.csv           \n",
            "  inflating: data/CA73.csv           \n",
            "  inflating: data/CA91.csv           \n",
            "  inflating: data/CI32.csv           \n",
            "  inflating: data/CI52.csv           \n",
            "  inflating: data/CR32.csv           \n",
            "  inflating: data/CR42.csv           \n",
            "  inflating: data/JU12.csv           \n",
            "  inflating: data/JU42.csv           \n",
            "  inflating: data/JU52.csv           \n",
            "  inflating: data/LO11.csv           \n",
            "  inflating: data/LO21.csv           \n",
            "  inflating: data/LO31.csv           \n",
            "  inflating: data/LO41.csv           \n",
            "  inflating: data/ML21.csv           \n",
            "  inflating: data/MO12.csv           \n",
            "  inflating: data/MO31.csv           \n",
            "  inflating: data/MO41.csv           \n",
            "  inflating: data/MO51.csv           \n",
            "  inflating: data/MU21.csv           \n",
            "  inflating: data/MU31.csv           \n",
            "  inflating: data/MU62.csv           \n",
            "  inflating: data/TP42.csv           \n",
            "  inflating: data/TP91.csv           \n",
            "--2020-04-11 23:55:38--  https://raw.githubusercontent.com/MateoPeri/Helyx-Submission/master/estaciones.csv\n",
            "Resolving raw.githubusercontent.com (raw.githubusercontent.com)... 151.101.0.133, 151.101.64.133, 151.101.128.133, ...\n",
            "Connecting to raw.githubusercontent.com (raw.githubusercontent.com)|151.101.0.133|:443... connected.\n",
            "HTTP request sent, awaiting response... 200 OK\n",
            "Length: 589 [text/plain]\n",
            "Saving to: ‘/content/data/estaciones.csv’\n",
            "\n",
            "estaciones.csv      100%[===================>]     589  --.-KB/s    in 0s      \n",
            "\n",
            "2020-04-11 23:55:38 (92.5 MB/s) - ‘/content/data/estaciones.csv’ saved [589/589]\n",
            "\n"
          ],
          "name": "stdout"
        }
      ]
    },
    {
      "cell_type": "code",
      "metadata": {
        "id": "dmtRBOqc_MEl",
        "colab_type": "code",
        "outputId": "62ab53f6-fb9c-4cb7-b6cf-25d70e088ace",
        "colab": {
          "base_uri": "https://localhost:8080/",
          "height": 196
        }
      },
      "source": [
        "pattern = 'data/*.csv'\n",
        "csv_files = glob.glob(pattern)\n",
        "\n",
        "frames = []\n",
        "\n",
        "for csv in csv_files:\n",
        "  if csv == 'data/estaciones.csv':\n",
        "    continue\n",
        "  df = pd.read_csv(csv, parse_dates=True, sep=';', escapechar='\\\\', encoding='ISO-8859-1', decimal=',', thousands='.')\n",
        "  frames.append(df)\n",
        "\n",
        "df = pd.concat(frames, ignore_index=True)\n",
        "\n",
        "df.head()"
      ],
      "execution_count": 79,
      "outputs": [
        {
          "output_type": "execute_result",
          "data": {
            "text/html": [
              "<div>\n",
              "<style scoped>\n",
              "    .dataframe tbody tr th:only-of-type {\n",
              "        vertical-align: middle;\n",
              "    }\n",
              "\n",
              "    .dataframe tbody tr th {\n",
              "        vertical-align: top;\n",
              "    }\n",
              "\n",
              "    .dataframe thead th {\n",
              "        text-align: right;\n",
              "    }\n",
              "</style>\n",
              "<table border=\"1\" class=\"dataframe\">\n",
              "  <thead>\n",
              "    <tr style=\"text-align: right;\">\n",
              "      <th></th>\n",
              "      <th>ESTACION</th>\n",
              "      <th>MUNICIPIO</th>\n",
              "      <th>PARAJE</th>\n",
              "      <th>HORAS</th>\n",
              "      <th>FECHA</th>\n",
              "      <th>HSOL  (h)</th>\n",
              "      <th>RADMAX  (w/m2)</th>\n",
              "      <th>RADMED  (w/m2)</th>\n",
              "      <th>Unnamed: 8</th>\n",
              "    </tr>\n",
              "  </thead>\n",
              "  <tbody>\n",
              "    <tr>\n",
              "      <th>0</th>\n",
              "      <td>MU31</td>\n",
              "      <td>Murcia</td>\n",
              "      <td>La Vereda</td>\n",
              "      <td>24.0</td>\n",
              "      <td>01/01/00</td>\n",
              "      <td>7.0</td>\n",
              "      <td>482.0</td>\n",
              "      <td>111.08</td>\n",
              "      <td>NaN</td>\n",
              "    </tr>\n",
              "    <tr>\n",
              "      <th>1</th>\n",
              "      <td>MU31</td>\n",
              "      <td>Murcia</td>\n",
              "      <td>La Vereda</td>\n",
              "      <td>24.0</td>\n",
              "      <td>02/01/00</td>\n",
              "      <td>7.0</td>\n",
              "      <td>485.0</td>\n",
              "      <td>111.88</td>\n",
              "      <td>NaN</td>\n",
              "    </tr>\n",
              "    <tr>\n",
              "      <th>2</th>\n",
              "      <td>MU31</td>\n",
              "      <td>Murcia</td>\n",
              "      <td>La Vereda</td>\n",
              "      <td>24.0</td>\n",
              "      <td>03/01/00</td>\n",
              "      <td>6.0</td>\n",
              "      <td>545.0</td>\n",
              "      <td>77.83</td>\n",
              "      <td>NaN</td>\n",
              "    </tr>\n",
              "    <tr>\n",
              "      <th>3</th>\n",
              "      <td>MU31</td>\n",
              "      <td>Murcia</td>\n",
              "      <td>La Vereda</td>\n",
              "      <td>24.0</td>\n",
              "      <td>04/01/00</td>\n",
              "      <td>6.0</td>\n",
              "      <td>630.0</td>\n",
              "      <td>82.21</td>\n",
              "      <td>NaN</td>\n",
              "    </tr>\n",
              "    <tr>\n",
              "      <th>4</th>\n",
              "      <td>MU31</td>\n",
              "      <td>Murcia</td>\n",
              "      <td>La Vereda</td>\n",
              "      <td>24.0</td>\n",
              "      <td>05/01/00</td>\n",
              "      <td>7.0</td>\n",
              "      <td>481.0</td>\n",
              "      <td>109.04</td>\n",
              "      <td>NaN</td>\n",
              "    </tr>\n",
              "  </tbody>\n",
              "</table>\n",
              "</div>"
            ],
            "text/plain": [
              "  ESTACION MUNICIPIO     PARAJE  ...  RADMAX  (w/m2) RADMED  (w/m2)  Unnamed: 8\n",
              "0     MU31    Murcia  La Vereda  ...           482.0         111.08         NaN\n",
              "1     MU31    Murcia  La Vereda  ...           485.0         111.88         NaN\n",
              "2     MU31    Murcia  La Vereda  ...           545.0          77.83         NaN\n",
              "3     MU31    Murcia  La Vereda  ...           630.0          82.21         NaN\n",
              "4     MU31    Murcia  La Vereda  ...           481.0         109.04         NaN\n",
              "\n",
              "[5 rows x 9 columns]"
            ]
          },
          "metadata": {
            "tags": []
          },
          "execution_count": 79
        }
      ]
    },
    {
      "cell_type": "code",
      "metadata": {
        "id": "Q3X4CO0atGD9",
        "colab_type": "code",
        "colab": {
          "base_uri": "https://localhost:8080/",
          "height": 184
        },
        "outputId": "6f6ca19c-9da6-43bf-f1a5-0b31f578dcd3"
      },
      "source": [
        "df.dtypes"
      ],
      "execution_count": 78,
      "outputs": [
        {
          "output_type": "execute_result",
          "data": {
            "text/plain": [
              "ESTACION           object\n",
              "MUNICIPIO          object\n",
              "PARAJE             object\n",
              "HORAS             float64\n",
              "FECHA              object\n",
              "HSOL  (h)         float64\n",
              "RADMAX  (w/m2)    float64\n",
              "RADMED  (w/m2)    float64\n",
              "Unnamed: 8        float64\n",
              "dtype: object"
            ]
          },
          "metadata": {
            "tags": []
          },
          "execution_count": 78
        }
      ]
    },
    {
      "cell_type": "code",
      "metadata": {
        "id": "zn9gI-v_tJVi",
        "colab_type": "code",
        "colab": {
          "base_uri": "https://localhost:8080/",
          "height": 196
        },
        "outputId": "3688f677-6cd6-4dcf-cef6-c6a1629951c0"
      },
      "source": [
        "df.FECHA = pd.to_datetime(df.FECHA)\n",
        "df = df.drop(['Unnamed: 8', 'HORAS'], axis=1)\n",
        "df.rename(columns={'HSOL  (h)': 'HSOL', 'RADMAX  (w/m2)': 'RADMAX', 'RADMED  (w/m2)': 'RADMED'}, inplace=True)\n",
        "\n",
        "df.head()"
      ],
      "execution_count": 80,
      "outputs": [
        {
          "output_type": "execute_result",
          "data": {
            "text/html": [
              "<div>\n",
              "<style scoped>\n",
              "    .dataframe tbody tr th:only-of-type {\n",
              "        vertical-align: middle;\n",
              "    }\n",
              "\n",
              "    .dataframe tbody tr th {\n",
              "        vertical-align: top;\n",
              "    }\n",
              "\n",
              "    .dataframe thead th {\n",
              "        text-align: right;\n",
              "    }\n",
              "</style>\n",
              "<table border=\"1\" class=\"dataframe\">\n",
              "  <thead>\n",
              "    <tr style=\"text-align: right;\">\n",
              "      <th></th>\n",
              "      <th>ESTACION</th>\n",
              "      <th>MUNICIPIO</th>\n",
              "      <th>PARAJE</th>\n",
              "      <th>FECHA</th>\n",
              "      <th>HSOL</th>\n",
              "      <th>RADMAX</th>\n",
              "      <th>RADMED</th>\n",
              "    </tr>\n",
              "  </thead>\n",
              "  <tbody>\n",
              "    <tr>\n",
              "      <th>0</th>\n",
              "      <td>MU31</td>\n",
              "      <td>Murcia</td>\n",
              "      <td>La Vereda</td>\n",
              "      <td>2000-01-01</td>\n",
              "      <td>7.0</td>\n",
              "      <td>482.0</td>\n",
              "      <td>111.08</td>\n",
              "    </tr>\n",
              "    <tr>\n",
              "      <th>1</th>\n",
              "      <td>MU31</td>\n",
              "      <td>Murcia</td>\n",
              "      <td>La Vereda</td>\n",
              "      <td>2000-02-01</td>\n",
              "      <td>7.0</td>\n",
              "      <td>485.0</td>\n",
              "      <td>111.88</td>\n",
              "    </tr>\n",
              "    <tr>\n",
              "      <th>2</th>\n",
              "      <td>MU31</td>\n",
              "      <td>Murcia</td>\n",
              "      <td>La Vereda</td>\n",
              "      <td>2000-03-01</td>\n",
              "      <td>6.0</td>\n",
              "      <td>545.0</td>\n",
              "      <td>77.83</td>\n",
              "    </tr>\n",
              "    <tr>\n",
              "      <th>3</th>\n",
              "      <td>MU31</td>\n",
              "      <td>Murcia</td>\n",
              "      <td>La Vereda</td>\n",
              "      <td>2000-04-01</td>\n",
              "      <td>6.0</td>\n",
              "      <td>630.0</td>\n",
              "      <td>82.21</td>\n",
              "    </tr>\n",
              "    <tr>\n",
              "      <th>4</th>\n",
              "      <td>MU31</td>\n",
              "      <td>Murcia</td>\n",
              "      <td>La Vereda</td>\n",
              "      <td>2000-05-01</td>\n",
              "      <td>7.0</td>\n",
              "      <td>481.0</td>\n",
              "      <td>109.04</td>\n",
              "    </tr>\n",
              "  </tbody>\n",
              "</table>\n",
              "</div>"
            ],
            "text/plain": [
              "  ESTACION MUNICIPIO     PARAJE      FECHA  HSOL  RADMAX  RADMED\n",
              "0     MU31    Murcia  La Vereda 2000-01-01   7.0   482.0  111.08\n",
              "1     MU31    Murcia  La Vereda 2000-02-01   7.0   485.0  111.88\n",
              "2     MU31    Murcia  La Vereda 2000-03-01   6.0   545.0   77.83\n",
              "3     MU31    Murcia  La Vereda 2000-04-01   6.0   630.0   82.21\n",
              "4     MU31    Murcia  La Vereda 2000-05-01   7.0   481.0  109.04"
            ]
          },
          "metadata": {
            "tags": []
          },
          "execution_count": 80
        }
      ]
    },
    {
      "cell_type": "markdown",
      "metadata": {
        "id": "VEXf9zCqVMnC",
        "colab_type": "text"
      },
      "source": [
        "# Preprocessing"
      ]
    },
    {
      "cell_type": "code",
      "metadata": {
        "id": "8av_l7h7SllW",
        "colab_type": "code",
        "colab": {
          "base_uri": "https://localhost:8080/",
          "height": 196
        },
        "outputId": "e813468e-a344-4192-87f2-0b62a831518d"
      },
      "source": [
        "stations = pd.read_csv('data/estaciones.csv', sep=';')\n",
        "stations['Utmy'], stations['Utmx'] = utm.to_latlon(stations['Utmx'], stations['Utmy'], zone_number=30, zone_letter=\"S\")\n",
        "stations.rename(columns={'Estación': 'ESTACION', 'Utmy': 'LAT', 'Utmx': 'LONG'}, inplace=True)\n",
        "stations.head()"
      ],
      "execution_count": 81,
      "outputs": [
        {
          "output_type": "execute_result",
          "data": {
            "text/html": [
              "<div>\n",
              "<style scoped>\n",
              "    .dataframe tbody tr th:only-of-type {\n",
              "        vertical-align: middle;\n",
              "    }\n",
              "\n",
              "    .dataframe tbody tr th {\n",
              "        vertical-align: top;\n",
              "    }\n",
              "\n",
              "    .dataframe thead th {\n",
              "        text-align: right;\n",
              "    }\n",
              "</style>\n",
              "<table border=\"1\" class=\"dataframe\">\n",
              "  <thead>\n",
              "    <tr style=\"text-align: right;\">\n",
              "      <th></th>\n",
              "      <th>ESTACION</th>\n",
              "      <th>LAT</th>\n",
              "      <th>LONG</th>\n",
              "    </tr>\n",
              "  </thead>\n",
              "  <tbody>\n",
              "    <tr>\n",
              "      <th>0</th>\n",
              "      <td>AL31</td>\n",
              "      <td>37.734317</td>\n",
              "      <td>-1.511796</td>\n",
              "    </tr>\n",
              "    <tr>\n",
              "      <th>1</th>\n",
              "      <td>AL62</td>\n",
              "      <td>37.562186</td>\n",
              "      <td>-1.400979</td>\n",
              "    </tr>\n",
              "    <tr>\n",
              "      <th>2</th>\n",
              "      <td>CA12</td>\n",
              "      <td>37.690459</td>\n",
              "      <td>-0.949582</td>\n",
              "    </tr>\n",
              "    <tr>\n",
              "      <th>3</th>\n",
              "      <td>CA21</td>\n",
              "      <td>37.833234</td>\n",
              "      <td>-1.121357</td>\n",
              "    </tr>\n",
              "    <tr>\n",
              "      <th>4</th>\n",
              "      <td>CA52</td>\n",
              "      <td>37.678868</td>\n",
              "      <td>-1.069549</td>\n",
              "    </tr>\n",
              "  </tbody>\n",
              "</table>\n",
              "</div>"
            ],
            "text/plain": [
              "  ESTACION        LAT      LONG\n",
              "0     AL31  37.734317 -1.511796\n",
              "1     AL62  37.562186 -1.400979\n",
              "2     CA12  37.690459 -0.949582\n",
              "3     CA21  37.833234 -1.121357\n",
              "4     CA52  37.678868 -1.069549"
            ]
          },
          "metadata": {
            "tags": []
          },
          "execution_count": 81
        }
      ]
    },
    {
      "cell_type": "code",
      "metadata": {
        "id": "SupMFRq7cIDd",
        "colab_type": "code",
        "colab": {
          "base_uri": "https://localhost:8080/",
          "height": 196
        },
        "outputId": "d483bc18-e7dd-4dde-e8bc-c1acc22c0758"
      },
      "source": [
        "result = pd.merge(df, stations, on='ESTACION')\n",
        "result.head()"
      ],
      "execution_count": 83,
      "outputs": [
        {
          "output_type": "execute_result",
          "data": {
            "text/html": [
              "<div>\n",
              "<style scoped>\n",
              "    .dataframe tbody tr th:only-of-type {\n",
              "        vertical-align: middle;\n",
              "    }\n",
              "\n",
              "    .dataframe tbody tr th {\n",
              "        vertical-align: top;\n",
              "    }\n",
              "\n",
              "    .dataframe thead th {\n",
              "        text-align: right;\n",
              "    }\n",
              "</style>\n",
              "<table border=\"1\" class=\"dataframe\">\n",
              "  <thead>\n",
              "    <tr style=\"text-align: right;\">\n",
              "      <th></th>\n",
              "      <th>ESTACION</th>\n",
              "      <th>MUNICIPIO</th>\n",
              "      <th>PARAJE</th>\n",
              "      <th>FECHA</th>\n",
              "      <th>HSOL</th>\n",
              "      <th>RADMAX</th>\n",
              "      <th>RADMED</th>\n",
              "      <th>LAT</th>\n",
              "      <th>LONG</th>\n",
              "    </tr>\n",
              "  </thead>\n",
              "  <tbody>\n",
              "    <tr>\n",
              "      <th>0</th>\n",
              "      <td>MU31</td>\n",
              "      <td>Murcia</td>\n",
              "      <td>La Vereda</td>\n",
              "      <td>2000-01-01</td>\n",
              "      <td>7.0</td>\n",
              "      <td>482.0</td>\n",
              "      <td>111.08</td>\n",
              "      <td>37.900056</td>\n",
              "      <td>-1.266895</td>\n",
              "    </tr>\n",
              "    <tr>\n",
              "      <th>1</th>\n",
              "      <td>MU31</td>\n",
              "      <td>Murcia</td>\n",
              "      <td>La Vereda</td>\n",
              "      <td>2000-02-01</td>\n",
              "      <td>7.0</td>\n",
              "      <td>485.0</td>\n",
              "      <td>111.88</td>\n",
              "      <td>37.900056</td>\n",
              "      <td>-1.266895</td>\n",
              "    </tr>\n",
              "    <tr>\n",
              "      <th>2</th>\n",
              "      <td>MU31</td>\n",
              "      <td>Murcia</td>\n",
              "      <td>La Vereda</td>\n",
              "      <td>2000-03-01</td>\n",
              "      <td>6.0</td>\n",
              "      <td>545.0</td>\n",
              "      <td>77.83</td>\n",
              "      <td>37.900056</td>\n",
              "      <td>-1.266895</td>\n",
              "    </tr>\n",
              "    <tr>\n",
              "      <th>3</th>\n",
              "      <td>MU31</td>\n",
              "      <td>Murcia</td>\n",
              "      <td>La Vereda</td>\n",
              "      <td>2000-04-01</td>\n",
              "      <td>6.0</td>\n",
              "      <td>630.0</td>\n",
              "      <td>82.21</td>\n",
              "      <td>37.900056</td>\n",
              "      <td>-1.266895</td>\n",
              "    </tr>\n",
              "    <tr>\n",
              "      <th>4</th>\n",
              "      <td>MU31</td>\n",
              "      <td>Murcia</td>\n",
              "      <td>La Vereda</td>\n",
              "      <td>2000-05-01</td>\n",
              "      <td>7.0</td>\n",
              "      <td>481.0</td>\n",
              "      <td>109.04</td>\n",
              "      <td>37.900056</td>\n",
              "      <td>-1.266895</td>\n",
              "    </tr>\n",
              "  </tbody>\n",
              "</table>\n",
              "</div>"
            ],
            "text/plain": [
              "  ESTACION MUNICIPIO     PARAJE      FECHA  ...  RADMAX  RADMED        LAT      LONG\n",
              "0     MU31    Murcia  La Vereda 2000-01-01  ...   482.0  111.08  37.900056 -1.266895\n",
              "1     MU31    Murcia  La Vereda 2000-02-01  ...   485.0  111.88  37.900056 -1.266895\n",
              "2     MU31    Murcia  La Vereda 2000-03-01  ...   545.0   77.83  37.900056 -1.266895\n",
              "3     MU31    Murcia  La Vereda 2000-04-01  ...   630.0   82.21  37.900056 -1.266895\n",
              "4     MU31    Murcia  La Vereda 2000-05-01  ...   481.0  109.04  37.900056 -1.266895\n",
              "\n",
              "[5 rows x 9 columns]"
            ]
          },
          "metadata": {
            "tags": []
          },
          "execution_count": 83
        }
      ]
    },
    {
      "cell_type": "markdown",
      "metadata": {
        "id": "6kqHHDQn21lZ",
        "colab_type": "text"
      },
      "source": [
        "# TODO\n",
        "\n",
        "\n",
        "\n",
        "*   Missings\n",
        "*   Entrenar (X=[FECHA, HSOL, RADMAX, RADMED, LAT, LONG])\n",
        "*   Validar\n",
        "\n"
      ]
    },
    {
      "cell_type": "code",
      "metadata": {
        "id": "OknVv-v33SBb",
        "colab_type": "code",
        "colab": {}
      },
      "source": [
        ""
      ],
      "execution_count": 0,
      "outputs": []
    }
  ]
}